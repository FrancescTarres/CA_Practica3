{
  "nbformat": 4,
  "nbformat_minor": 0,
  "metadata": {
    "colab": {
      "name": "Practica3_CA.ipynb",
      "provenance": [],
      "include_colab_link": true
    },
    "kernelspec": {
      "name": "python3",
      "display_name": "Python 3"
    }
  },
  "cells": [
    {
      "cell_type": "markdown",
      "metadata": {
        "id": "view-in-github",
        "colab_type": "text"
      },
      "source": [
        "<a href=\"https://colab.research.google.com/github/FrancescTarres/CA_Practica3/blob/master/Practica3_CA.ipynb\" target=\"_parent\"><img src=\"https://colab.research.google.com/assets/colab-badge.svg\" alt=\"Open In Colab\"/></a>"
      ]
    },
    {
      "cell_type": "markdown",
      "metadata": {
        "id": "UMwWJoFlAbph",
        "colab_type": "text"
      },
      "source": [
        "# Practica 3: Transformaciones Puntuales. \n",
        "#Tratamiento automático del Histograma.\n",
        "## Introducción\n",
        "En esta práctica nos centraremos en los algoritmos de ecualización de histograma y en otras variantes de procesado basadas en el tratamiento sistemático del histograma. Se trata de técnicas utilizadas muy a menudo en la mejora de imágenes. \n",
        "\n",
        "Para ello vamos a trabajar principalmente con las librerias de **scikit-image**, que son unas librearias utilizadas muy a menudo en Python para la programación de aplicaciones de procesado de imágenes. Otras librerías que podrían usarse alternativamente son las OpenCV, que se explorarán en otras prácticas. \n",
        "\n",
        "En el transcurso de la práctica iremos viendo distintos tipos de transformaciones sistemáticas del histograma. La característica principal de estas transformaciones es que son automáticas, es decir, no requieren que el usuario especifique directamente la función de transformación sino que existen algoritmos para determinar de forma automática los principales parámetros de la transformación. En general, estos métodos de mejora resultan satisfactorios para la mayor parte de las imágenes ya que, de forma sistemática, intentan aumentar el contraste global y local de la imagen. No obstante, siempre pueden encontrarse contraejemplos de imágenes cuya calidad perceptual se deteriora al aplicar estas transformaciones.\n",
        "\n",
        "Durante la práctica veremos diferentes tipos de transformaciones automáticas relacionadas con el procesado del histograma:\n",
        "\n",
        "\n",
        "\n",
        "1.   Ecualización de histograma\n",
        "2. Tratamiento local del histograma\n",
        "3. Ecualización adaptativa del histogram\n",
        "\n",
        "Durante la práctica se realizan diferentes cuestiones que el estudiante debe resolver utilizando ***celdas de texto*** en el cuaderno Jupyter. Para realizar la entrega de la práctica recuerde que a partir del documento Jupyter debe generarse un documento  PDF que incluya sus respuestas y los resultados obtenidos (realice una impresión del documento en formato PDF). No se admite la entrega directa de los cuadernos en Jupyter.\n"
      ]
    },
    {
      "cell_type": "markdown",
      "metadata": {
        "id": "PR5X2uM8NrD9",
        "colab_type": "text"
      },
      "source": [
        "El primer paso a realizar es permitir que el entorno Colaborative de Google tenga acceso a vuestro drive, donde en principio tendréis guardadas las imágenes que debemos procesar en esta práctica.\n",
        "\n",
        "Para ello debemos ejectuar esta sentencia y definir el directorio desde el cuál trabajaremos. En este caso, deberá modificarse el directorio dentro de os.chir para que coincida con el directorio donde ha almacenado las imágenes correspondientes a esta práctica en su directorio de Drive."
      ]
    },
    {
      "cell_type": "code",
      "metadata": {
        "id": "RK61cprp8Dpl",
        "colab_type": "code",
        "outputId": "e8b77ffd-6a8e-42cf-c1d9-fe0f045158b0",
        "colab": {
          "base_uri": "https://localhost:8080/",
          "height": 120
        }
      },
      "source": [
        "# Preparamos para dar permiso de acceso a Drive a Colab\n",
        "import os, sys\n",
        "\n",
        "from google.colab import drive\n",
        "drive.mount('/content/drive')\n",
        "\n",
        "os.chdir(\"/content/drive/My Drive/Colab Notebooks/CA_Practiques/Practica 3\")"
      ],
      "execution_count": 0,
      "outputs": [
        {
          "output_type": "stream",
          "text": [
            "Go to this URL in a browser: https://accounts.google.com/o/oauth2/auth?client_id=947318989803-6bn6qk8qdgf4n4g3pfee6491hc0brc4i.apps.googleusercontent.com&redirect_uri=urn%3Aietf%3Awg%3Aoauth%3A2.0%3Aoob&scope=email%20https%3A%2F%2Fwww.googleapis.com%2Fauth%2Fdocs.test%20https%3A%2F%2Fwww.googleapis.com%2Fauth%2Fdrive%20https%3A%2F%2Fwww.googleapis.com%2Fauth%2Fdrive.photos.readonly%20https%3A%2F%2Fwww.googleapis.com%2Fauth%2Fpeopleapi.readonly&response_type=code\n",
            "\n",
            "Enter your authorization code:\n",
            "··········\n",
            "Mounted at /content/drive\n"
          ],
          "name": "stdout"
        }
      ]
    },
    {
      "cell_type": "markdown",
      "metadata": {
        "id": "_FMmJ8M_37zp",
        "colab_type": "text"
      },
      "source": [
        "En el siguiente apartado cargamos las diferentes librerias de Python que utilizaremos durante la práctica. De scikit images (skimage) importamos los módulos de transformación de imagen (transform), de control de exposición (exposure) y de entrada y salida (io). El primero nos permitirá aplicar diferentes transformaciones puntuales, el segundo incluye algunas técnicas de control de la exposición como la ecualiación de imágenes y el tercero es un módulo de utilizad para abrir y cerrar ficheros de imagen, representarlos, etc."
      ]
    },
    {
      "cell_type": "code",
      "metadata": {
        "id": "9n7kO1vk27PN",
        "colab_type": "code",
        "colab": {}
      },
      "source": [
        "# Cargamos las principales librerias que utilizaremos en esta práctica\n",
        "from skimage import exposure as exp\n",
        "#from skimage.exposure import match_histograms\n",
        "from skimage import transform as trf\n",
        "from skimage import io\n",
        "\n",
        "import matplotlib.pyplot as plt\n",
        "import numpy as np"
      ],
      "execution_count": 0,
      "outputs": []
    },
    {
      "cell_type": "markdown",
      "metadata": {
        "id": "GfLX8LtQ3HEX",
        "colab_type": "text"
      },
      "source": [
        "# Ecualización Básica\n",
        "\n",
        "A continuación abrimos una imagen, la normalizamos y la visualizamos. (Nota: obsérvese que el proceso es totalmente paralelo a Matlab). Los módulos de imagen ***imread*** y ***imshow*** se usan para leer imágenes y representarlas en pantalla. Si se deseara escribir una imagen en disco debería aplicarse la función ***imwrite***\n"
      ]
    },
    {
      "cell_type": "code",
      "metadata": {
        "id": "pbmmsBDOae0M",
        "colab_type": "code",
        "colab": {}
      },
      "source": [
        "a=io.imread('Imagen2.jpg')\n",
        "a=a/255\n",
        "print(a[1,1])\n",
        "io.imshow(a)"
      ],
      "execution_count": 0,
      "outputs": []
    },
    {
      "cell_type": "markdown",
      "metadata": {
        "id": "x5_NYnRX7_lB",
        "colab_type": "text"
      },
      "source": [
        "La función de ***skimages.exposure*** que ecualiza el histograma es equalize_hist, que vamos a aplicar directamente a nuestra imagen, para ver el resultado de la ecualización."
      ]
    },
    {
      "cell_type": "code",
      "metadata": {
        "id": "8IPWIDsj8YHy",
        "colab_type": "code",
        "colab": {}
      },
      "source": [
        "a_eq = exp.equalize_hist(a)\n",
        "io.imshow(a_eq)"
      ],
      "execution_count": 0,
      "outputs": []
    },
    {
      "cell_type": "markdown",
      "metadata": {
        "id": "mHpYPbXS8vPR",
        "colab_type": "text"
      },
      "source": [
        "Igual que en Matlab, podemos comparar las dos imágenes en una misma gráfica utilizando las funciones de subplot que están implementadas en ***matplotlib.pyplot***. Las funcionalidades de esta libreria son exactamente iguales a las funcionalidades de Matlab."
      ]
    },
    {
      "cell_type": "code",
      "metadata": {
        "id": "PXr4yg8k9LcW",
        "colab_type": "code",
        "colab": {}
      },
      "source": [
        "plt.subplot(121)\n",
        "io.imshow(a)\n",
        "plt.subplot(122)\n",
        "io.imshow(a_eq)\n"
      ],
      "execution_count": 0,
      "outputs": []
    },
    {
      "cell_type": "markdown",
      "metadata": {
        "id": "fnoEC4Gi9c7x",
        "colab_type": "text"
      },
      "source": [
        "Una vez representadas las imágenes podemos ver como son los histogramas de las imágenes original y transformadas utilizando la función ***exposure.histogram*** que permite el cálculo del histograma."
      ]
    },
    {
      "cell_type": "code",
      "metadata": {
        "id": "NwgX34kAWHz-",
        "colab_type": "code",
        "colab": {}
      },
      "source": [
        "h,bin1=exp.histogram(a)\n",
        "hq,bin2=exp.histogram(a_eq)\n",
        "\n",
        "plt.subplot(121)\n",
        "plt.bar(bin1,h,width=1/250, align='edge')\n",
        "plt.subplot(122)\n",
        "plt.bar(bin2,hq,width=1/80,align='edge')\n"
      ],
      "execution_count": 0,
      "outputs": []
    },
    {
      "cell_type": "markdown",
      "metadata": {
        "id": "Z_W8NThC-FxS",
        "colab_type": "text"
      },
      "source": [
        "# Cuestiones 1\n",
        "CUESTIONES.\n",
        "\n",
        "1.\tIndique de forma aproximada los niveles de gris mínimo y máximo de la imagen original a partir de la información obtenida en el histograma.\n",
        "2.\tIndique de forma aproximada los niveles de gris mínimo y máximo de la imagen transformada a partir de la información obtenida en el histograma.\n",
        "3.\tExplique por qué el histograma de la imagen resultante (a_eq) no es perfectamente plano\n",
        "4.\tExplique por qué las barras altas del histograma están más separadas que las barras de menor altura.\n"
      ]
    },
    {
      "cell_type": "markdown",
      "metadata": {
        "id": "mp2VWJfyIaGe",
        "colab_type": "text"
      },
      "source": [
        "# Número de niveles de la imagen ecualizada\n",
        "\n",
        "En este apartado vamos a reducir el número de niveles de la imagen para posteriormente ecualizarla. Vamos a convertir la imagen en una imagen de 10 niveles. Para ello usamos la siguiente operación, que reduce los niveles de la imagen a los que se especifican en el parámetro ***levels***"
      ]
    },
    {
      "cell_type": "code",
      "metadata": {
        "id": "6HPl7l726aQV",
        "colab_type": "code",
        "colab": {}
      },
      "source": [
        "levels = 10.\n",
        "b=np.floor(levels*a)/levels\n",
        "print(b[5:8,5:8])"
      ],
      "execution_count": 0,
      "outputs": []
    },
    {
      "cell_type": "code",
      "metadata": {
        "id": "ZYMyvqKlur4z",
        "colab_type": "code",
        "colab": {}
      },
      "source": [
        "#Procedim a fer l'Equalització automàtica de la imatge amb menys nivells\n",
        "\n",
        "a_eq=exp.equalize_hist(b,int(levels))\n",
        "io.imshow(a_eq)\n"
      ],
      "execution_count": 0,
      "outputs": []
    },
    {
      "cell_type": "code",
      "metadata": {
        "id": "b_kVzkfrJNvN",
        "colab_type": "code",
        "colab": {}
      },
      "source": [
        "h=exp.histogram(b)\n",
        "hq=exp.histogram(a_eq)\n",
        "\n",
        "plt.subplot(121)\n",
        "plt.bar(h[1],h[0],width=1/10, align='edge')\n",
        "plt.subplot(122)\n",
        "plt.bar(hq[1],hq[0],width=1/10,align='edge')"
      ],
      "execution_count": 0,
      "outputs": []
    },
    {
      "cell_type": "markdown",
      "metadata": {
        "id": "oZIu8HzoKTfP",
        "colab_type": "text"
      },
      "source": [
        "# Cuestiones 2\n",
        "CUESTIONES\n",
        "A la vista de los resultados explique:\n",
        "1. ¿Cuantos niveles 'reales' tiene la imagen original b que ecualizamos? Explique por que no tiene los levels=10 que teóricamente le hemos asoignado.\n",
        "2. ¿Cuantos niveles tiene la imagen una vez equalizada?\n",
        "3. ¿Justifique el histograma de la imagen ecualizada teniendo en cuenta el carácter discreto de la imágen"
      ]
    },
    {
      "cell_type": "markdown",
      "metadata": {
        "id": "A68I2R7sLYBt",
        "colab_type": "text"
      },
      "source": [
        "# Representación de la función que ecualiza el histograma\n",
        "\n",
        "Para calcular la función que ecualiza el histograma podemos realizarlo desde el punto de vista numérico, utilizando la libreria ***numpy*** (numeric Python). La siguiente rutina toma la imagen original 'a' y calcula la función histograma que dispone ***numpy***. No obstante, la función histograma de esta libreria solo admite arrays de 1D. Para convertir la imagen en un array 1D se utiliza el método ***flatten***, que reorganiza la imagen como una secuencia de vectores.\n",
        "A partir del histograma se calcula la función acumulativa del histograma (ya que, como sabemos, la función que ecualiza el histograma es el histograma acumulado). la última parte del código simplemente realiza una normalización de esta función para que en la representación superpuesta de las dos funciones tengamos los mismos niveles. (No obstante, para aplicar la transformación puntual a la imagen deberíamos normalizar ***cdf*** para que su valor máximo sea la unidad)"
      ]
    },
    {
      "cell_type": "code",
      "metadata": {
        "id": "pib_DcSmpV4c",
        "colab_type": "code",
        "colab": {}
      },
      "source": [
        "hist,bins=np.histogram(a.flatten(),255,[0,1])\n",
        "cdf=hist.cumsum()\n",
        "cdf_n=cdf * float(hist.max())/cdf.max()\n",
        "plt.plot(255*bins[0:255],hist[0:255])\n",
        "plt.plot(cdf_n,'r')\n",
        "\n"
      ],
      "execution_count": 0,
      "outputs": []
    },
    {
      "cell_type": "markdown",
      "metadata": {
        "id": "QwscaEyUNVPL",
        "colab_type": "text"
      },
      "source": [
        "Alternativamente, podemos utilizar la libreria skimage para calcular la transformación puntual que ecualiza el histograma. En este caso, la función a utilizar es exp.cummulative_distribution. Su uso se explica en el siguiente fragmento de código"
      ]
    },
    {
      "cell_type": "code",
      "metadata": {
        "id": "5R0vwqjINBLP",
        "colab_type": "code",
        "colab": {}
      },
      "source": [
        "tp, bins = exp.cumulative_distribution(a)\n",
        "plt.plot(bins,tp)"
      ],
      "execution_count": 0,
      "outputs": []
    },
    {
      "cell_type": "markdown",
      "metadata": {
        "id": "7hKjvK0KNSOU",
        "colab_type": "text"
      },
      "source": [
        "# Cuestion 3\n",
        "Se pide que escriba código necesario para implementar las siguientes funcionalidades:\n",
        "\n",
        "1. Abrir la imagen barco.bmp\n",
        "2. Normalizar la imagen a la unidad y visualizarla\n",
        "3. Realizar la ecualización de la imagen y visualizarla\n",
        "5. Representar los histogramas de las dos imágenes.\n",
        "6. Representar la función que ecualiza el histograma.\n",
        "\n",
        "Incluya el código utilizado y las imágenes gráficas obtenidas."
      ]
    },
    {
      "cell_type": "code",
      "metadata": {
        "id": "E45w8IeutS-0",
        "colab_type": "code",
        "colab": {}
      },
      "source": [
        "# Escriba aquí su código"
      ],
      "execution_count": 0,
      "outputs": []
    },
    {
      "cell_type": "markdown",
      "metadata": {
        "id": "f6dQDrsPRyAD",
        "colab_type": "text"
      },
      "source": [
        "# Ecualización de imágenes de naturaleza binaria\n",
        "\n",
        "Tal y como se ha comentado en clase, la ecualización de imagen puede producir resultados aceptables cuando las imágenes son naturales, que contienen una gran variedad de niveles de gris. No obstante, cuando procesamos imágenes de naturaleza bimodal, la ecualización fuerza que aparezcan todos los niveles de gris y queda el resultado queda muy forzado,\n",
        "\n",
        "El siguiente código muestra como ejemplo la imagen de una matricula de automóvil, que intentaremos ecualizar y ver su efecto sobre la imagen. "
      ]
    },
    {
      "cell_type": "code",
      "metadata": {
        "id": "9cVg2GRZUi1O",
        "colab_type": "code",
        "colab": {}
      },
      "source": [
        "LPlate = io.imread('6132hjz_bw.jpg')\n",
        "LPlate = LPlate/256\n",
        "io.imshow(LPlate)"
      ],
      "execution_count": 0,
      "outputs": []
    },
    {
      "cell_type": "code",
      "metadata": {
        "id": "dwwtbC5OXlcU",
        "colab_type": "code",
        "colab": {}
      },
      "source": [
        "LPlateEq = exp.equalize_hist(LPlate)\n",
        "io.imshow(LPlateEq)\n",
        "\n"
      ],
      "execution_count": 0,
      "outputs": []
    },
    {
      "cell_type": "code",
      "metadata": {
        "id": "00dvgRKBcfPt",
        "colab_type": "code",
        "colab": {}
      },
      "source": [
        "h,bin1=exp.histogram(LPlate)\n",
        "hq,bin2=exp.histogram(LPlateEq)\n",
        "\n",
        "plt.subplot(121)\n",
        "plt.bar(bin1,h,width=1/100, align='edge')\n",
        "plt.subplot(122)\n",
        "plt.bar(bin2,hq,width=1/100,align='edge')"
      ],
      "execution_count": 0,
      "outputs": []
    },
    {
      "cell_type": "markdown",
      "metadata": {
        "id": "7GIQOtevZd9h",
        "colab_type": "text"
      },
      "source": [
        "# Cuestion 4\n",
        "\n",
        "Explique brevemente, de forma intuitiva, porqué la imagen ecualizada se ve peor que la imagen original"
      ]
    },
    {
      "cell_type": "markdown",
      "metadata": {
        "id": "9scTZr77iEPH",
        "colab_type": "text"
      },
      "source": [
        "Escriba aquí su respuesta"
      ]
    },
    {
      "cell_type": "markdown",
      "metadata": {
        "id": "74HFpkp2Zxou",
        "colab_type": "text"
      },
      "source": [
        "# Especificación de histograma\n",
        "\n",
        "La libreria skimages dispone de una función que permite realizar una especificación de histograma. Realmente, la función realiza un matching de histogramas, es decir, sus parámetros de entrada son 2 imágenes, una de ellas la que debemos procesar y modificar el histograma y otra que es el ejemplo de histograma que deseamos obtener. \n",
        "\n",
        "Esencialmente, la función ***transform.match_histogram*** se encarga de procesar una imagen para que su histograma sea 'parecido' al de otra imagen proporcionada como ejemplo. La flexibilidad de esta función es que en la práctica podemos proporcionar una imagen 'real', cuyo histograma queremos copiar, o una imagen sintética, con un hostograma definido por nosotros mismos y que la función intentará, en lo posible, obtener.\n",
        "\n",
        "Es importante tener en cuenta, que en todos los casos estudiados en esta práctica, estamos trabajando con imágenes reales, discretas, con un número finito de niveles de gris y que por lo tanto, conceptos como la especificación de histograma, que en imágenes analógicas son problemas matemáticamente cerrados, en nuestro caso serán solo aproximaciones.\n",
        "\n",
        "En el siguiente ejemplo utilizamos la función match_histogram para obtener una simple equalización de histograma con la misma imagen de la matrícula de automóvil que hemos usado anteriormente."
      ]
    },
    {
      "cell_type": "code",
      "metadata": {
        "id": "wAp6QYarrPxX",
        "colab_type": "code",
        "colab": {}
      },
      "source": [
        "imatch = np.zeros([256,256])\n",
        "for i in range(256):\n",
        "  for j in range(256):\n",
        "    imatch[i,j]=j\n",
        "\n",
        "LPlateMatch = trf.match_histograms(LPlate,imatch)\n",
        "LPlateMatch=LPlateMatch/256\n",
        "print(LPlateMatch[10,10])\n",
        "io.imshow(LPlateMatch,)"
      ],
      "execution_count": 0,
      "outputs": []
    },
    {
      "cell_type": "markdown",
      "metadata": {
        "id": "12kduja6fbeU",
        "colab_type": "text"
      },
      "source": [
        "El resultado obtenido es el mismo que en una ecualización. Esto es así debido a que hemos creado una imagen donde todos los niveles de gris tienen la misma densidad, por tanto, al realizar el matching de los histogramas obtenemos una imagen con el histograma plano."
      ]
    },
    {
      "cell_type": "markdown",
      "metadata": {
        "id": "PUWil-Ilf0_V",
        "colab_type": "text"
      },
      "source": [
        "# Cuestión 5\n",
        "Utilizando el ejemplo anterior se pide que aplique la función match_histograms a la imagen de la matrícula pero ahora generando una imagen de muestra que tenga la mitad de los píxeles repartidos uniformemente entre los niveles 0 y 63 y la otra mitad entre los niveles 192 y 255.\n",
        "Escriba el código para generar la imagen y la imagen final obtenida."
      ]
    },
    {
      "cell_type": "code",
      "metadata": {
        "id": "UMCDKVBsgbRL",
        "colab_type": "code",
        "colab": {}
      },
      "source": [
        "# Escriba aqui su código\n"
      ],
      "execution_count": 0,
      "outputs": []
    },
    {
      "cell_type": "markdown",
      "metadata": {
        "id": "xb1a_mxskDhV",
        "colab_type": "text"
      },
      "source": [
        "# Cuestión 6\n",
        "Aplique las técnicas de especificación de histograma para mejorar la imagen Bufalo.jpg que se proporciona junto con los archivos de esta práctica. Explique la especificación de histograma que ha considerado adecuada para mejorar la imagen. Incluya el código utilizado para generar la especificación de la imagen y una representación de la imagen obtenida como resultado final."
      ]
    },
    {
      "cell_type": "code",
      "metadata": {
        "id": "RlWfN2makmho",
        "colab_type": "code",
        "colab": {}
      },
      "source": [
        "# Incluya aquí su código\n"
      ],
      "execution_count": 0,
      "outputs": []
    },
    {
      "cell_type": "markdown",
      "metadata": {
        "id": "wrtXy-qGkk1y",
        "colab_type": "text"
      },
      "source": [
        "## Incluya aquí su respuesta\n",
        "\n"
      ]
    },
    {
      "cell_type": "markdown",
      "metadata": {
        "id": "HZ_X3e-ulBCg",
        "colab_type": "text"
      },
      "source": [
        "# Ecualización Adaptativa CLAHE\n",
        "\n",
        "Hemos visto que una de las técnicas más utilizadas para la mejora de imagen es una variante de la ecualización que tiene en cuenta:\n",
        "1. La ecualización es adaptativa a diferentes regiones de la imagen. Es decir, la imagen se divide en bloques y se aplica una ecualización independiente a cada uno de los bloques. Para evitar el efecto de bloque se aplica una interpolacion entre las diferentes transformaciones puntuales que rodean un pixel, dando mayor o menor importancia en relación a la distancia entre el píxel y el centro de cada uno de los bloques. Este tipo de ecualización se denomina ***AHE (Adaptive Histogram Equalization)***\n",
        "2. La ecualización AHE puede mejorarse incluyendo la limitación del los picos del histograma. En este caso, se trata de evitar que en las regiones donde el histograma tiene grandes picos, la integración de la función produzca transformaciones puntuales con pendiente muy elevadas, con un contraste excesivo. Por ello, este método aplica una limitación de clipping en las regiones del histograma con amplitudes excesivas. La conjunción de este método con la versión adaptativa da lugar al método ***CLAHE***\n",
        "\n",
        "La ecualización ***CLAHE*** se proporciona en la libreria ***skimage*** a través del módulo ***exposure.equalizar_adapthist.***\n",
        "\n",
        "Los parámetros de entrada de este módulo son la imagen a procesar (image), el tamaño de las subimágenes que se usarán para la división en bloques de la imagen (kernel), el valor del límite de clipping que estará normalizado entre 0 y 1, cuanto más próximo a la unidad menos clipping y por lo tanto, obtendremos mayor contraste. (clip_limit). La rutina también permite definir el número de bins con el que se procesa el histograma.\n",
        "\n",
        "En el siguiente ejemplo cargamos una imagen y aplicamos la técnica de ecualización adaptativa. En este ejemplo, tenga en cuenta que la imagen que cargamos es una imagen de 400x401 píxeles, que dividimos en bloques de [100,100] y que por lo tanto tenemos la imagen dividida en un total de 16 bloques. Tenga también en cuenta que el límite de clipping es bastante bajo (1%), evitando que el contraste aumente excesivamente. Así, si usaramos un nivel de clipping de 1, tendríamos que el procesado se realiza solamente utilizando el métdos ***AHE***"
      ]
    },
    {
      "cell_type": "code",
      "metadata": {
        "id": "dt5UZCclrhaW",
        "colab_type": "code",
        "colab": {}
      },
      "source": [
        "Faro = io.imread('Faro.jpg')\n",
        "a=np.array(Faro)\n",
        "print(a.shape)\n",
        "FaroCLAHE = exp.equalize_adapthist(Faro,kernel_size=[200,200], clip_limit=0.1)\n",
        "plt.subplot(121)\n",
        "io.imshow(Faro)\n",
        "plt.subplot(122)\n",
        "io.imshow(FaroCLAHE)\n"
      ],
      "execution_count": 0,
      "outputs": []
    },
    {
      "cell_type": "markdown",
      "metadata": {
        "id": "LqtH-2r0wj8Z",
        "colab_type": "text"
      },
      "source": [
        "#Cuestión 7\n",
        "\n",
        "Modifique los parámetros de tamaño del kernel y del nivel de clipping hasta obtener una imagen final satisfactoria."
      ]
    },
    {
      "cell_type": "code",
      "metadata": {
        "id": "dUzhYGsJwwxz",
        "colab_type": "code",
        "colab": {}
      },
      "source": [
        "# Escriba aqui sus valores"
      ],
      "execution_count": 0,
      "outputs": []
    },
    {
      "cell_type": "markdown",
      "metadata": {
        "id": "-cwdbW1ww0x5",
        "colab_type": "text"
      },
      "source": [
        "# Cuestión 8.\n",
        "\n",
        "1. Tome una fotografía a contraluz con su móvil. Intente que la fotografía aparezca muy contrastada, con regiones muy oscuras y otras muy claras, de manera que pueda ser mejorada aplicando el método CLAHE.\n",
        "2. Suba la fotografia al directorio de Drive en el que está trabajando.\n",
        "3. Realice la representación de la imagen original.\n",
        "4. Aplique una ecualización CLAHE usando los mismos parámetros que ha seleccionado en la cuestión anterior\n",
        "5. Determine si los parámetros son aceptables (o debe buscar otros valores)\n",
        "6. Introduzca el código y los resultados en el documento."
      ]
    },
    {
      "cell_type": "code",
      "metadata": {
        "id": "MUipXeY5x5gL",
        "colab_type": "code",
        "colab": {}
      },
      "source": [
        "# Inroduzca aquí su código"
      ],
      "execution_count": 0,
      "outputs": []
    }
  ]
}